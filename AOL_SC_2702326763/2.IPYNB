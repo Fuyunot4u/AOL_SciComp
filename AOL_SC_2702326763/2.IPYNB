{
 "cells": [
  {
   "cell_type": "code",
   "execution_count": 1,
   "metadata": {},
   "outputs": [
    {
     "name": "stdout",
     "output_type": "stream",
     "text": [
      "y = 1937.0264 + 22.0055 * x^1 + 0.6420 * x^2 + -0.0044 * x^3 + 0.0000 * x^4\n"
     ]
    }
   ],
   "source": [
    "import numpy as np\n",
    "from sklearn.preprocessing import PolynomialFeatures #use machine learning library \n",
    "\n",
    "# Define your data arrays\n",
    "x = list(range(1, 145))# x for month range from M1 - M114\n",
    "\n",
    "y = [1863, 1614, 2570, 1685, 2101, 1811, 2457, 2171, 2134, 2502, 2358, 2399,\n",
    "    2048, 2523, 2086, 2391, 2150, 2340, 3129, 2277, 2964, 2997, 2747, 2862,\n",
    "    3405, 2677, 2749, 2755, 2963, 3161, 3623, 2768, 3141, 3439, 3601, 3531,\n",
    "    3477, 3376, 4027, 3175, 3274, 3334, 3964, 3649, 3502, 3688, 3657, 4422,\n",
    "    4197, 4441, 4736, 4521, 4485, 4644, 5036, 4876, 4789, 4544, 4975, 5211,\n",
    "    4880, 4933, 5079, 5339, 5232, 5520, 5714, 5260, 6110, 5334, 5988, 6235,\n",
    "    6365, 6266, 6345, 6118, 6497, 6278, 6638, 6590, 6271, 7246, 6584, 6594,\n",
    "    7092, 7326, 7409, 7976, 7959, 8012, 8195, 8008, 8313, 7791, 8368, 8933,\n",
    "    8756, 8613, 8705, 9098, 8769, 9544, 9050, 9186, 10012, 9685, 9966, 10048,\n",
    "    10244, 10740, 10318, 10393, 10986, 10635, 10731, 11749, 11849, 12123,\n",
    "    12274, 11666, 11960, 12629, 12915, 13051, 13387, 13309, 13732, 13162,\n",
    "    13644, 13808, 14101, 13992, 15191, 15018, 14917, 15046, 15556, 15893,\n",
    "    16388, 16782, 16716, 17033, 16896, 17689]\n",
    "\n",
    "# Convert lists to numpy arrays and reshape x for sklearn\n",
    "X = np.array(x).reshape(-1, 1)\n",
    "y = np.array(y[:144])  # Ensure y has the same length as x\n",
    "\n",
    "# Define the degree of the polynomial\n",
    "degree = 4\n",
    "\n",
    "# Create polynomial features\n",
    "poly = PolynomialFeatures(degree=degree)\n",
    "X_poly = poly.fit_transform(X)\n",
    "\n",
    "# Define the Newton-Raphson function\n",
    "def newton_raphson(X, y, max_iter=100, tol=1e-6):\n",
    "    m, n = X.shape\n",
    "    theta = np.zeros(n)\n",
    "    \n",
    "    for _ in range(max_iter):\n",
    "        y_pred = X.dot(theta)\n",
    "        \n",
    "        residuals = y_pred - y\n",
    "        \n",
    "        gradient = X.T.dot(residuals) / m\n",
    "        \n",
    "        H = X.T.dot(X) / m\n",
    "        \n",
    "        delta_theta = np.linalg.solve(H, gradient)\n",
    "        theta -= delta_theta\n",
    "        \n",
    "        if np.linalg.norm(delta_theta) < tol:\n",
    "            break\n",
    "    \n",
    "    return theta\n",
    "\n",
    "# Apply Newton-Raphson method to find the parameters\n",
    "theta = newton_raphson(X_poly, y)\n",
    "\n",
    "# Predict the values using the polynomial model\n",
    "y_pred = X_poly.dot(theta)\n",
    "\n",
    "#function to find polynomial equation\n",
    "def polynomial_equation(theta):\n",
    "    terms = [f\"{theta[i]:.4f} * x^{i}\" if i != 0 else f\"{theta[i]:.4f}\" for i in range(len(theta))]\n",
    "    equation = \" + \".join(terms)\n",
    "    return f\"y = {equation}\"\n",
    "\n",
    "# Print the polynomial equation\n",
    "equation = polynomial_equation(theta)\n",
    "print(equation)"
   ]
  }
 ],
 "metadata": {
  "kernelspec": {
   "display_name": "Python 3",
   "language": "python",
   "name": "python3"
  },
  "language_info": {
   "codemirror_mode": {
    "name": "ipython",
    "version": 3
   },
   "file_extension": ".py",
   "mimetype": "text/x-python",
   "name": "python",
   "nbconvert_exporter": "python",
   "pygments_lexer": "ipython3",
   "version": "3.11.9"
  }
 },
 "nbformat": 4,
 "nbformat_minor": 2
}
